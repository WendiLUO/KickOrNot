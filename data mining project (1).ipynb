{
 "cells": [
  {
   "cell_type": "markdown",
   "metadata": {},
   "source": [
    "### Data Mining Project (CS 6220): Don't Get Kicked\n",
    "\n",
    "* Wendi Luo (Email: luo.wen@husky.neu.edu)\n",
    "* Seyedeh Negin Mortazavi (Email: mortazavi.s@husky.neu.edu)      \n",
    "Graduate Students          \n",
    "Department of Computer Science   \n",
    "Northeastern University, San Jose, CA"
   ]
  },
  {
   "cell_type": "code",
   "execution_count": 1,
   "metadata": {},
   "outputs": [],
   "source": [
    "#load libraries\n",
    "%matplotlib inline \n",
    "import numpy as np \n",
    "import scipy as sp \n",
    "import matplotlib as mpl\n",
    "import matplotlib.cm as cm\n",
    "import matplotlib.pyplot as plt \n",
    "import pandas as pd \n",
    "\n",
    "#sets up pandas table display\n",
    "pd.set_option('display.width', 500)\n",
    "pd.set_option('display.max_columns', 100)\n",
    "pd.set_option('display.notebook_repr_html', True)\n",
    "\n",
    "# prevent warning messages\n",
    "import warnings\n",
    "warnings.filterwarnings('ignore')"
   ]
  },
  {
   "cell_type": "code",
   "execution_count": 5,
   "metadata": {},
   "outputs": [
    {
     "data": {
      "text/html": [
       "<div>\n",
       "<style scoped>\n",
       "    .dataframe tbody tr th:only-of-type {\n",
       "        vertical-align: middle;\n",
       "    }\n",
       "\n",
       "    .dataframe tbody tr th {\n",
       "        vertical-align: top;\n",
       "    }\n",
       "\n",
       "    .dataframe thead th {\n",
       "        text-align: right;\n",
       "    }\n",
       "</style>\n",
       "<table border=\"1\" class=\"dataframe\">\n",
       "  <thead>\n",
       "    <tr style=\"text-align: right;\">\n",
       "      <th></th>\n",
       "      <th>RefId</th>\n",
       "      <th>IsBadBuy</th>\n",
       "      <th>PurchDate</th>\n",
       "      <th>Auction</th>\n",
       "      <th>VehYear</th>\n",
       "      <th>VehicleAge</th>\n",
       "      <th>Make</th>\n",
       "      <th>Model</th>\n",
       "      <th>Trim</th>\n",
       "      <th>SubModel</th>\n",
       "      <th>Color</th>\n",
       "      <th>Transmission</th>\n",
       "      <th>WheelTypeID</th>\n",
       "      <th>WheelType</th>\n",
       "      <th>VehOdo</th>\n",
       "      <th>Nationality</th>\n",
       "      <th>Size</th>\n",
       "      <th>TopThreeAmericanName</th>\n",
       "      <th>MMRAcquisitionAuctionAveragePrice</th>\n",
       "      <th>MMRAcquisitionAuctionCleanPrice</th>\n",
       "      <th>MMRAcquisitionRetailAveragePrice</th>\n",
       "      <th>MMRAcquisitonRetailCleanPrice</th>\n",
       "      <th>MMRCurrentAuctionAveragePrice</th>\n",
       "      <th>MMRCurrentAuctionCleanPrice</th>\n",
       "      <th>MMRCurrentRetailAveragePrice</th>\n",
       "      <th>MMRCurrentRetailCleanPrice</th>\n",
       "      <th>PRIMEUNIT</th>\n",
       "      <th>AUCGUART</th>\n",
       "      <th>BYRNO</th>\n",
       "      <th>VNZIP1</th>\n",
       "      <th>VNST</th>\n",
       "      <th>VehBCost</th>\n",
       "      <th>IsOnlineSale</th>\n",
       "      <th>WarrantyCost</th>\n",
       "    </tr>\n",
       "  </thead>\n",
       "  <tbody>\n",
       "    <tr>\n",
       "      <th>0</th>\n",
       "      <td>1</td>\n",
       "      <td>0</td>\n",
       "      <td>12/7/2009</td>\n",
       "      <td>ADESA</td>\n",
       "      <td>2006</td>\n",
       "      <td>3</td>\n",
       "      <td>MAZDA</td>\n",
       "      <td>MAZDA3</td>\n",
       "      <td>i</td>\n",
       "      <td>4D SEDAN I</td>\n",
       "      <td>RED</td>\n",
       "      <td>AUTO</td>\n",
       "      <td>1.0</td>\n",
       "      <td>Alloy</td>\n",
       "      <td>89046</td>\n",
       "      <td>OTHER ASIAN</td>\n",
       "      <td>MEDIUM</td>\n",
       "      <td>OTHER</td>\n",
       "      <td>8155.0</td>\n",
       "      <td>9829.0</td>\n",
       "      <td>11636.0</td>\n",
       "      <td>13600.0</td>\n",
       "      <td>7451.0</td>\n",
       "      <td>8552.0</td>\n",
       "      <td>11597.0</td>\n",
       "      <td>12409.0</td>\n",
       "      <td>NaN</td>\n",
       "      <td>NaN</td>\n",
       "      <td>21973</td>\n",
       "      <td>33619</td>\n",
       "      <td>FL</td>\n",
       "      <td>7100.0</td>\n",
       "      <td>0</td>\n",
       "      <td>1113</td>\n",
       "    </tr>\n",
       "    <tr>\n",
       "      <th>1</th>\n",
       "      <td>2</td>\n",
       "      <td>0</td>\n",
       "      <td>12/7/2009</td>\n",
       "      <td>ADESA</td>\n",
       "      <td>2004</td>\n",
       "      <td>5</td>\n",
       "      <td>DODGE</td>\n",
       "      <td>1500 RAM PICKUP 2WD</td>\n",
       "      <td>ST</td>\n",
       "      <td>QUAD CAB 4.7L SLT</td>\n",
       "      <td>WHITE</td>\n",
       "      <td>AUTO</td>\n",
       "      <td>1.0</td>\n",
       "      <td>Alloy</td>\n",
       "      <td>93593</td>\n",
       "      <td>AMERICAN</td>\n",
       "      <td>LARGE TRUCK</td>\n",
       "      <td>CHRYSLER</td>\n",
       "      <td>6854.0</td>\n",
       "      <td>8383.0</td>\n",
       "      <td>10897.0</td>\n",
       "      <td>12572.0</td>\n",
       "      <td>7456.0</td>\n",
       "      <td>9222.0</td>\n",
       "      <td>11374.0</td>\n",
       "      <td>12791.0</td>\n",
       "      <td>NaN</td>\n",
       "      <td>NaN</td>\n",
       "      <td>19638</td>\n",
       "      <td>33619</td>\n",
       "      <td>FL</td>\n",
       "      <td>7600.0</td>\n",
       "      <td>0</td>\n",
       "      <td>1053</td>\n",
       "    </tr>\n",
       "    <tr>\n",
       "      <th>2</th>\n",
       "      <td>3</td>\n",
       "      <td>0</td>\n",
       "      <td>12/7/2009</td>\n",
       "      <td>ADESA</td>\n",
       "      <td>2005</td>\n",
       "      <td>4</td>\n",
       "      <td>DODGE</td>\n",
       "      <td>STRATUS V6</td>\n",
       "      <td>SXT</td>\n",
       "      <td>4D SEDAN SXT FFV</td>\n",
       "      <td>MAROON</td>\n",
       "      <td>AUTO</td>\n",
       "      <td>2.0</td>\n",
       "      <td>Covers</td>\n",
       "      <td>73807</td>\n",
       "      <td>AMERICAN</td>\n",
       "      <td>MEDIUM</td>\n",
       "      <td>CHRYSLER</td>\n",
       "      <td>3202.0</td>\n",
       "      <td>4760.0</td>\n",
       "      <td>6943.0</td>\n",
       "      <td>8457.0</td>\n",
       "      <td>4035.0</td>\n",
       "      <td>5557.0</td>\n",
       "      <td>7146.0</td>\n",
       "      <td>8702.0</td>\n",
       "      <td>NaN</td>\n",
       "      <td>NaN</td>\n",
       "      <td>19638</td>\n",
       "      <td>33619</td>\n",
       "      <td>FL</td>\n",
       "      <td>4900.0</td>\n",
       "      <td>0</td>\n",
       "      <td>1389</td>\n",
       "    </tr>\n",
       "    <tr>\n",
       "      <th>3</th>\n",
       "      <td>4</td>\n",
       "      <td>0</td>\n",
       "      <td>12/7/2009</td>\n",
       "      <td>ADESA</td>\n",
       "      <td>2004</td>\n",
       "      <td>5</td>\n",
       "      <td>DODGE</td>\n",
       "      <td>NEON</td>\n",
       "      <td>SXT</td>\n",
       "      <td>4D SEDAN</td>\n",
       "      <td>SILVER</td>\n",
       "      <td>AUTO</td>\n",
       "      <td>1.0</td>\n",
       "      <td>Alloy</td>\n",
       "      <td>65617</td>\n",
       "      <td>AMERICAN</td>\n",
       "      <td>COMPACT</td>\n",
       "      <td>CHRYSLER</td>\n",
       "      <td>1893.0</td>\n",
       "      <td>2675.0</td>\n",
       "      <td>4658.0</td>\n",
       "      <td>5690.0</td>\n",
       "      <td>1844.0</td>\n",
       "      <td>2646.0</td>\n",
       "      <td>4375.0</td>\n",
       "      <td>5518.0</td>\n",
       "      <td>NaN</td>\n",
       "      <td>NaN</td>\n",
       "      <td>19638</td>\n",
       "      <td>33619</td>\n",
       "      <td>FL</td>\n",
       "      <td>4100.0</td>\n",
       "      <td>0</td>\n",
       "      <td>630</td>\n",
       "    </tr>\n",
       "    <tr>\n",
       "      <th>4</th>\n",
       "      <td>5</td>\n",
       "      <td>0</td>\n",
       "      <td>12/7/2009</td>\n",
       "      <td>ADESA</td>\n",
       "      <td>2005</td>\n",
       "      <td>4</td>\n",
       "      <td>FORD</td>\n",
       "      <td>FOCUS</td>\n",
       "      <td>ZX3</td>\n",
       "      <td>2D COUPE ZX3</td>\n",
       "      <td>SILVER</td>\n",
       "      <td>MANUAL</td>\n",
       "      <td>2.0</td>\n",
       "      <td>Covers</td>\n",
       "      <td>69367</td>\n",
       "      <td>AMERICAN</td>\n",
       "      <td>COMPACT</td>\n",
       "      <td>FORD</td>\n",
       "      <td>3913.0</td>\n",
       "      <td>5054.0</td>\n",
       "      <td>7723.0</td>\n",
       "      <td>8707.0</td>\n",
       "      <td>3247.0</td>\n",
       "      <td>4384.0</td>\n",
       "      <td>6739.0</td>\n",
       "      <td>7911.0</td>\n",
       "      <td>NaN</td>\n",
       "      <td>NaN</td>\n",
       "      <td>19638</td>\n",
       "      <td>33619</td>\n",
       "      <td>FL</td>\n",
       "      <td>4000.0</td>\n",
       "      <td>0</td>\n",
       "      <td>1020</td>\n",
       "    </tr>\n",
       "  </tbody>\n",
       "</table>\n",
       "</div>"
      ],
      "text/plain": [
       "   RefId  IsBadBuy  PurchDate Auction  VehYear  VehicleAge   Make                Model Trim           SubModel   Color Transmission  WheelTypeID WheelType  VehOdo  Nationality         Size TopThreeAmericanName  MMRAcquisitionAuctionAveragePrice  MMRAcquisitionAuctionCleanPrice  MMRAcquisitionRetailAveragePrice  MMRAcquisitonRetailCleanPrice  MMRCurrentAuctionAveragePrice  MMRCurrentAuctionCleanPrice  MMRCurrentRetailAveragePrice  MMRCurrentRetailCleanPrice PRIMEUNIT AUCGUART  BYRNO  VNZIP1  \\\n",
       "0      1         0  12/7/2009   ADESA     2006           3  MAZDA               MAZDA3    i         4D SEDAN I     RED         AUTO          1.0     Alloy   89046  OTHER ASIAN       MEDIUM                OTHER                             8155.0                           9829.0                           11636.0                        13600.0                         7451.0                       8552.0                       11597.0                     12409.0       NaN      NaN  21973   33619   \n",
       "1      2         0  12/7/2009   ADESA     2004           5  DODGE  1500 RAM PICKUP 2WD   ST  QUAD CAB 4.7L SLT   WHITE         AUTO          1.0     Alloy   93593     AMERICAN  LARGE TRUCK             CHRYSLER                             6854.0                           8383.0                           10897.0                        12572.0                         7456.0                       9222.0                       11374.0                     12791.0       NaN      NaN  19638   33619   \n",
       "2      3         0  12/7/2009   ADESA     2005           4  DODGE           STRATUS V6  SXT   4D SEDAN SXT FFV  MAROON         AUTO          2.0    Covers   73807     AMERICAN       MEDIUM             CHRYSLER                             3202.0                           4760.0                            6943.0                         8457.0                         4035.0                       5557.0                        7146.0                      8702.0       NaN      NaN  19638   33619   \n",
       "3      4         0  12/7/2009   ADESA     2004           5  DODGE                 NEON  SXT           4D SEDAN  SILVER         AUTO          1.0     Alloy   65617     AMERICAN      COMPACT             CHRYSLER                             1893.0                           2675.0                            4658.0                         5690.0                         1844.0                       2646.0                        4375.0                      5518.0       NaN      NaN  19638   33619   \n",
       "4      5         0  12/7/2009   ADESA     2005           4   FORD                FOCUS  ZX3       2D COUPE ZX3  SILVER       MANUAL          2.0    Covers   69367     AMERICAN      COMPACT                 FORD                             3913.0                           5054.0                            7723.0                         8707.0                         3247.0                       4384.0                        6739.0                      7911.0       NaN      NaN  19638   33619   \n",
       "\n",
       "  VNST  VehBCost  IsOnlineSale  WarrantyCost  \n",
       "0   FL    7100.0             0          1113  \n",
       "1   FL    7600.0             0          1053  \n",
       "2   FL    4900.0             0          1389  \n",
       "3   FL    4100.0             0           630  \n",
       "4   FL    4000.0             0          1020  "
      ]
     },
     "execution_count": 5,
     "metadata": {},
     "output_type": "execute_result"
    }
   ],
   "source": [
    "# Reading data and show 5 first rows of data to get some sense how data looks like\n",
    "df = pd.read_csv(\"/Users/luowendi/Documents/training.csv\")\n",
    "df.head()"
   ]
  },
  {
   "cell_type": "code",
   "execution_count": 6,
   "metadata": {},
   "outputs": [
    {
     "name": "stdout",
     "output_type": "stream",
     "text": [
      "Shape of data frame is: (72983,34) \n",
      "\n",
      "Types of columns in data frame is:\n"
     ]
    },
    {
     "data": {
      "text/plain": [
       "RefId                                  int64\n",
       "IsBadBuy                               int64\n",
       "PurchDate                             object\n",
       "Auction                               object\n",
       "VehYear                                int64\n",
       "VehicleAge                             int64\n",
       "Make                                  object\n",
       "Model                                 object\n",
       "Trim                                  object\n",
       "SubModel                              object\n",
       "Color                                 object\n",
       "Transmission                          object\n",
       "WheelTypeID                          float64\n",
       "WheelType                             object\n",
       "VehOdo                                 int64\n",
       "Nationality                           object\n",
       "Size                                  object\n",
       "TopThreeAmericanName                  object\n",
       "MMRAcquisitionAuctionAveragePrice    float64\n",
       "MMRAcquisitionAuctionCleanPrice      float64\n",
       "MMRAcquisitionRetailAveragePrice     float64\n",
       "MMRAcquisitonRetailCleanPrice        float64\n",
       "MMRCurrentAuctionAveragePrice        float64\n",
       "MMRCurrentAuctionCleanPrice          float64\n",
       "MMRCurrentRetailAveragePrice         float64\n",
       "MMRCurrentRetailCleanPrice           float64\n",
       "PRIMEUNIT                             object\n",
       "AUCGUART                              object\n",
       "BYRNO                                  int64\n",
       "VNZIP1                                 int64\n",
       "VNST                                  object\n",
       "VehBCost                             float64\n",
       "IsOnlineSale                           int64\n",
       "WarrantyCost                           int64\n",
       "dtype: object"
      ]
     },
     "execution_count": 6,
     "metadata": {},
     "output_type": "execute_result"
    }
   ],
   "source": [
    "#Defining data shape and data type for each feature (column)\n",
    "print('Shape of data frame is: (%i,%i) \\n' % df.shape)\n",
    "print('Types of columns in data frame is:')\n",
    "df.dtypes"
   ]
  },
  {
   "cell_type": "markdown",
   "metadata": {},
   "source": [
    "# **Feature Engineering**"
   ]
  },
  {
   "cell_type": "code",
   "execution_count": 7,
   "metadata": {},
   "outputs": [
    {
     "name": "stdout",
     "output_type": "stream",
     "text": [
      "RefId                                 0.000000\n",
      "IsBadBuy                              0.000000\n",
      "PurchDate                             0.000000\n",
      "Auction                               0.000000\n",
      "VehYear                               0.000000\n",
      "VehicleAge                            0.000000\n",
      "Make                                  0.000000\n",
      "Model                                 0.000000\n",
      "Trim                                  3.233630\n",
      "SubModel                              0.010961\n",
      "Color                                 0.010961\n",
      "Transmission                          0.012332\n",
      "WheelTypeID                           4.342107\n",
      "WheelType                             4.348958\n",
      "VehOdo                                0.000000\n",
      "Nationality                           0.006851\n",
      "Size                                  0.006851\n",
      "TopThreeAmericanName                  0.006851\n",
      "MMRAcquisitionAuctionAveragePrice     0.024663\n",
      "MMRAcquisitionAuctionCleanPrice       0.024663\n",
      "MMRAcquisitionRetailAveragePrice      0.024663\n",
      "MMRAcquisitonRetailCleanPrice         0.024663\n",
      "MMRCurrentAuctionAveragePrice         0.431607\n",
      "MMRCurrentAuctionCleanPrice           0.431607\n",
      "MMRCurrentRetailAveragePrice          0.431607\n",
      "MMRCurrentRetailCleanPrice            0.431607\n",
      "PRIMEUNIT                            95.315347\n",
      "AUCGUART                             95.315347\n",
      "BYRNO                                 0.000000\n",
      "VNZIP1                                0.000000\n",
      "VNST                                  0.000000\n",
      "VehBCost                              0.000000\n",
      "IsOnlineSale                          0.000000\n",
      "WarrantyCost                          0.000000\n",
      "dtype: float64\n"
     ]
    }
   ],
   "source": [
    "# see how the NaN/Missing value is spread over columns of data frame\n",
    "missing_values_count_per_column = np.sum(df.isnull(),axis=0)\n",
    "missing_values_percentage_per_column = 100.0 * (missing_values_count_per_column) / len(df)\n",
    "print(missing_values_percentage_per_column)"
   ]
  },
  {
   "cell_type": "code",
   "execution_count": 8,
   "metadata": {},
   "outputs": [],
   "source": [
    "\n",
    "# Column removal from feature set:\n",
    "# 1- columns \"PRIMEUNIT\" and \"AUCGUART\" have 95% missing data, ignore these columns\n",
    "# 2- \"RefID\" is a unique ID assigned to each car and so does not have useful information for classification, so we can ignore that columns as well\n",
    "# 3- \"PurchDate\" ~= \"VehYear\" + \"VehicleAge\", so we remove \"PurchDate\" column as well\n",
    "df_prunned = df.copy()\n",
    "df_prunned = df_prunned.drop(['RefId','PurchDate','PRIMEUNIT','AUCGUART'],axis=1)"
   ]
  },
  {
   "cell_type": "code",
   "execution_count": 9,
   "metadata": {},
   "outputs": [
    {
     "name": "stdout",
     "output_type": "stream",
     "text": [
      "Numeric columns are: ['IsBadBuy', 'VehYear', 'VehicleAge', 'WheelTypeID', 'VehOdo', 'MMRAcquisitionAuctionAveragePrice', 'MMRAcquisitionAuctionCleanPrice', 'MMRAcquisitionRetailAveragePrice', 'MMRAcquisitonRetailCleanPrice', 'MMRCurrentAuctionAveragePrice', 'MMRCurrentAuctionCleanPrice', 'MMRCurrentRetailAveragePrice', 'MMRCurrentRetailCleanPrice', 'BYRNO', 'VNZIP1', 'VehBCost', 'IsOnlineSale', 'WarrantyCost']\n",
      "\n",
      "Non-Numeric columns are: ['Auction', 'Make', 'Model', 'Trim', 'SubModel', 'Color', 'Transmission', 'WheelType', 'Nationality', 'Size', 'TopThreeAmericanName', 'VNST']\n",
      "\n"
     ]
    }
   ],
   "source": [
    "# Now we need to see which feature column has numerical value\n",
    "# and which one has non-numerical value to be able to impute missing values\n",
    "numeric_column = []\n",
    "non_numeric_column = []\n",
    "for col in df_prunned.columns:\n",
    "    if df_prunned[col].dtype == object:\n",
    "        non_numeric_column.append(col)\n",
    "    else:\n",
    "        numeric_column.append(col)\n",
    "print(\"Numeric columns are: %s\\n\"%numeric_column)\n",
    "print(\"Non-Numeric columns are: %s\\n\"%non_numeric_column)"
   ]
  },
  {
   "cell_type": "code",
   "execution_count": 10,
   "metadata": {},
   "outputs": [],
   "source": [
    "# First let's take care of non_numeric_column\n",
    "# We remove samples from data frame which has at least one missing data in non numeric column (The first less time consuming\n",
    "# approach to get rid of non-numeric missing data \n",
    "df_prunned_non_numeric_no_null = df_prunned.copy()\n",
    "for col in non_numeric_column:\n",
    "    df_prunned_non_numeric_no_null.dropna(subset=[col], how='any',inplace=True)"
   ]
  },
  {
   "cell_type": "code",
   "execution_count": 11,
   "metadata": {},
   "outputs": [
    {
     "data": {
      "image/png": "[encoded data removed]",
      "text/plain": [
       "<Figure size 432x288 with 1 Axes>"
      ]
     },
     "metadata": {},
     "output_type": "display_data"
    }
   ],
   "source": [
    "# Now let's check how to remove data samples which have at least one non-numeric columns with missing data affects whole data size\n",
    "# First,before removing samples which include null in non-numeric columns\n",
    "df_prunned.IsBadBuy.hist(bins=30,grid=True,xlabelsize=20,xrot=20);"
   ]
  },
  {
   "cell_type": "code",
   "execution_count": 12,
   "metadata": {},
   "outputs": [
    {
     "data": {
      "image/png": "[encoded data removed]",
      "text/plain": [
       "<Figure size 432x288 with 1 Axes>"
      ]
     },
     "metadata": {},
     "output_type": "display_data"
    }
   ],
   "source": [
    "# After removing samples, it include null in non-numeric columns\n",
    "df_prunned_non_numeric_no_null.IsBadBuy.hist(bins=30,grid=True,xlabelsize=20,xrot=20);"
   ]
  },
  {
   "cell_type": "code",
   "execution_count": 13,
   "metadata": {},
   "outputs": [],
   "source": [
    "# It seems there's only a little loss. Now we should take care of existing missing data in df_prunned_non_numeric_no_null\n",
    "df_columns = df_prunned_non_numeric_no_null.columns\n",
    "data = df_prunned_non_numeric_no_null.as_matrix()\n",
    "df_prunned_non_numeric_no_null.head()\n",
    "\n",
    "target_col = []\n",
    "from sklearn.preprocessing import Imputer\n",
    "for i, col in enumerate(df_columns):\n",
    "    if col in numeric_column:\n",
    "        target_col.append(i)  \n",
    "imputer_numeric = Imputer(missing_values='NaN', strategy='mean', axis=0)\n",
    "imputer_numeric.fit(data[:,target_col])\n",
    "data[:,target_col] = imputer_numeric.transform(data[:,target_col])\n",
    "\n",
    "# df_prunned_no_null is a datframe of object without missing data\n",
    "df_prunned_no_null = pd.DataFrame(data,columns=df_columns)"
   ]
  },
  {
   "cell_type": "code",
   "execution_count": 14,
   "metadata": {},
   "outputs": [
    {
     "name": "stdout",
     "output_type": "stream",
     "text": [
      "IsBadBuy                             0.0\n",
      "Auction                              0.0\n",
      "VehYear                              0.0\n",
      "VehicleAge                           0.0\n",
      "Make                                 0.0\n",
      "Model                                0.0\n",
      "Trim                                 0.0\n",
      "SubModel                             0.0\n",
      "Color                                0.0\n",
      "Transmission                         0.0\n",
      "WheelTypeID                          0.0\n",
      "WheelType                            0.0\n",
      "VehOdo                               0.0\n",
      "Nationality                          0.0\n",
      "Size                                 0.0\n",
      "TopThreeAmericanName                 0.0\n",
      "MMRAcquisitionAuctionAveragePrice    0.0\n",
      "MMRAcquisitionAuctionCleanPrice      0.0\n",
      "MMRAcquisitionRetailAveragePrice     0.0\n",
      "MMRAcquisitonRetailCleanPrice        0.0\n",
      "MMRCurrentAuctionAveragePrice        0.0\n",
      "MMRCurrentAuctionCleanPrice          0.0\n",
      "MMRCurrentRetailAveragePrice         0.0\n",
      "MMRCurrentRetailCleanPrice           0.0\n",
      "BYRNO                                0.0\n",
      "VNZIP1                               0.0\n",
      "VNST                                 0.0\n",
      "VehBCost                             0.0\n",
      "IsOnlineSale                         0.0\n",
      "WarrantyCost                         0.0\n",
      "dtype: float64\n"
     ]
    }
   ],
   "source": [
    "# Let's see how the NaN/missing value is spread over columns of dataframe (It should not be any missing value!)\n",
    "missing_values_count_per_column = np.sum(df_prunned_no_null.isnull(),axis=0)\n",
    "missing_values_percentage_per_column = 100.0 * (missing_values_count_per_column) / len(df_prunned_no_null)\n",
    "print(missing_values_percentage_per_column)"
   ]
  },
  {
   "cell_type": "markdown",
   "metadata": {},
   "source": [
    "# **Data Exploration**"
   ]
  },
  {
   "cell_type": "code",
   "execution_count": 15,
   "metadata": {},
   "outputs": [
    {
     "data": {
      "text/plain": [
       "<matplotlib.axes._subplots.AxesSubplot at 0x116f2cc18>"
      ]
     },
     "execution_count": 15,
     "metadata": {},
     "output_type": "execute_result"
    },
    {
     "data": {
      "image/png": "[encoded data removed]",
      "text/plain": [
       "<Figure size 432x432 with 1 Axes>"
      ]
     },
     "metadata": {},
     "output_type": "display_data"
    }
   ],
   "source": [
    "# First, let's see how different classes are spread over data set\n",
    "series = pd.Series(df_prunned_no_null.IsBadBuy.value_counts(), index=['0', '1'], name='')\n",
    "series.plot.pie(figsize=(6, 6),autopct='%.2f', fontsize=20,labels=['Is Bad Buy', 'Is Not Bad Buy'], colors=['r', 'g'])"
   ]
  },
  {
   "cell_type": "code",
   "execution_count": 16,
   "metadata": {},
   "outputs": [],
   "source": [
    "# Now let's see data features are spread over different class\n",
    "# This function take the data frame and target column and plot stacked bar graph for target features based on class label\n",
    "def make_stack_bar(df, column, x_label=None, y_label=None, title=None):\n",
    "    plt.rcParams['figure.figsize']=(14,5);\n",
    "    set0 = set(df_prunned_no_null[column][( df_prunned_no_null.IsBadBuy == 0)])\n",
    "    set1 = set(df_prunned_no_null[column][( df_prunned_no_null.IsBadBuy == 1)])\n",
    "    all_set = set0.union(set1)\n",
    "\n",
    "    stat = dict()\n",
    "    stat[\"Is Good Buy\"] = {}\n",
    "    stat[\"Is Bad Buy\"] = {}\n",
    "    for kind in all_set:\n",
    "        stat[\"Is Good Buy\"][kind] = 0\n",
    "        stat[\"Is Bad Buy\"][kind] = 0\n",
    "\n",
    "    data_1 = df_prunned_no_null[column][( df_prunned_no_null.IsBadBuy == 1)]\n",
    "    for kind in data_1:\n",
    "        stat[\"Is Good Buy\"][kind] += 1\n",
    "\n",
    "    data_0 = df_prunned_no_null[column][( df_prunned_no_null.IsBadBuy == 0)]\n",
    "    for kind in data_0:\n",
    "        stat[\"Is Bad Buy\"][kind] += 1\n",
    "\n",
    "\n",
    "    data = pd.DataFrame.from_dict(stat)\n",
    "    ax = data.plot(kind='bar',stacked=True, logy=True)\n",
    "    ax.set_xlabel(x_label)\n",
    "    ax.set_ylabel(y_label)"
   ]
  },
  {
   "cell_type": "code",
   "execution_count": 17,
   "metadata": {},
   "outputs": [
    {
     "data": {
      "image/png": "[encoded data removed]",
      "text/plain": [
       "<Figure size 1008x360 with 1 Axes>"
      ]
     },
     "metadata": {},
     "output_type": "display_data"
    }
   ],
   "source": [
    "# First let's see how \"Make\" is distributed over different classes\n",
    "desired_column = \"Make\"\n",
    "make_stack_bar(df_prunned_no_null, column=desired_column, x_label=desired_column, y_label=\"Count\",title=\"Stacked count bar graph for \\\"\" + desired_column + \"\\\" vs class label\")"
   ]
  },
  {
   "cell_type": "code",
   "execution_count": 18,
   "metadata": {},
   "outputs": [
    {
     "data": {
      "image/png": "[encoded data removed]",
      "text/plain": [
       "<Figure size 1008x360 with 1 Axes>"
      ]
     },
     "metadata": {},
     "output_type": "display_data"
    }
   ],
   "source": [
    "# Now let's see how \"VehicleAge\" is distributed over diffrent classes\n",
    "desired_column = \"VehicleAge\"\n",
    "make_stack_bar(df_prunned_no_null, column=desired_column,x_label= desired_column, y_label=\"Count\",title=\"Stacked count bar graph for \\\"\" + desired_column + \"\\\" vs class label\")"
   ]
  },
  {
   "cell_type": "code",
   "execution_count": 19,
   "metadata": {},
   "outputs": [
    {
     "data": {
      "image/png": "[encoded data removed]",
      "text/plain": [
       "<Figure size 1008x360 with 1 Axes>"
      ]
     },
     "metadata": {},
     "output_type": "display_data"
    }
   ],
   "source": [
    "# Now let see how \"Size\" is distributed over different classes\n",
    "desired_column = \"Size\"\n",
    "make_stack_bar(df_prunned_no_null, column=desired_column,x_label= desired_column, y_label=\"Count\",title=\"Stacked count bar graph for \\\"\" + desired_column + \"\\\" vs class label\")"
   ]
  },
  {
   "cell_type": "code",
   "execution_count": 20,
   "metadata": {},
   "outputs": [
    {
     "data": {
      "image/png": "[encoded data removed]",
      "text/plain": [
       "<Figure size 1008x360 with 1 Axes>"
      ]
     },
     "metadata": {},
     "output_type": "display_data"
    }
   ],
   "source": [
    "# Now let's see how \"Nationality\" is distributed over different classes\n",
    "desired_column = \"Nationality\"\n",
    "make_stack_bar(df_prunned_no_null, column=desired_column,x_label= desired_column, y_label=\"Count\",title=\"Stacked count bar graph for \\\"\" + desired_column + \"\\\" vs class label\")"
   ]
  },
  {
   "cell_type": "markdown",
   "metadata": {},
   "source": [
    "# **Model Training**"
   ]
  },
  {
   "cell_type": "code",
   "execution_count": 21,
   "metadata": {},
   "outputs": [],
   "source": [
    "# First we need to do LabelEncoding to conver non-numerical cloumns to numerical values to be able to apply classifier\n",
    "df_prunned_no_null_labelencoder = df_prunned_no_null.copy()\n",
    "from sklearn.preprocessing import LabelEncoder\n",
    "for col in df_prunned_no_null_labelencoder.columns:\n",
    "    le = LabelEncoder()\n",
    "    if df_prunned_no_null_labelencoder[col].dtype == object:\n",
    "        df_prunned_no_null_labelencoder[col] = le.fit_transform(df_prunned_no_null_labelencoder[col])"
   ]
  },
  {
   "cell_type": "code",
   "execution_count": 22,
   "metadata": {},
   "outputs": [
    {
     "name": "stderr",
     "output_type": "stream",
     "text": [
      "/anaconda3/lib/python3.6/site-packages/sklearn/cross_validation.py:41: DeprecationWarning: This module was deprecated in version 0.18 in favor of the model_selection module into which all the refactored classes and functions are moved. Also note that the interface of the new CV iterators are different from that of this module. This module will be removed in 0.20.\n",
      "  \"This module will be removed in 0.20.\", DeprecationWarning)\n"
     ]
    }
   ],
   "source": [
    "# By now, we have all data converted to numerical value.\n",
    "# Since we have used LabelEncoder, we should use non-linear classifier. \n",
    "# Before setting up classifier, we need to do train-test split.\n",
    "from sklearn.cross_validation import train_test_split\n",
    "y = df_prunned_no_null_labelencoder['IsBadBuy']\n",
    "X = df_prunned_no_null_labelencoder.drop('IsBadBuy',axis=1)\n",
    "X_train, X_test, y_train, y_test = train_test_split(X, y, test_size=0.20, random_state = 0)"
   ]
  },
  {
   "cell_type": "code",
   "execution_count": 24,
   "metadata": {},
   "outputs": [],
   "source": [
    "# Since data is unbalanced, first we do is to upsampling over training data\n",
    "from imblearn.over_sampling import SMOTE\n",
    "smote = SMOTE(ratio='auto', kind='regular')\n",
    "X_train_upsampled, y_train_upsampled = smote.fit_sample(X_train.as_matrix(), y_train.as_matrix())"
   ]
  },
  {
   "cell_type": "code",
   "execution_count": 26,
   "metadata": {},
   "outputs": [
    {
     "name": "stdout",
     "output_type": "stream",
     "text": [
      "The ratio of class = 1 to class = 0 is 1.00\n"
     ]
    }
   ],
   "source": [
    "print(\"The ratio of class = 1 to class = 0 is %.2f\"%(1.0 * sum(y_train_upsampled == 1)/sum(y_train_upsampled==0)))"
   ]
  },
  {
   "cell_type": "code",
   "execution_count": 30,
   "metadata": {},
   "outputs": [
    {
     "name": "stdout",
     "output_type": "stream",
     "text": [
      "[[9824 2402]\n",
      " [ 807  483]]\n",
      "Adaboost Classifier with Decision Tree as base: accuracy = 0.76, f1 score = 0.23 , roc = 0.55\n"
     ]
    }
   ],
   "source": [
    "\n",
    "# Ok now data for train is balanced.\n",
    "# Now lets do training and testing\n",
    "# We use AdaBoost classifier with Decision Tree as base\n",
    "from sklearn.tree import DecisionTreeClassifier\n",
    "from sklearn.ensemble import AdaBoostClassifier\n",
    "from sklearn.grid_search import GridSearchCV\n",
    "from sklearn.metrics import accuracy_score\n",
    "from sklearn.metrics import f1_score\n",
    "from sklearn.metrics import roc_auc_score\n",
    "from sklearn.metrics import confusion_matrix\n",
    "import pickle\n",
    "## You can make it true to train everything again but takes time\n",
    "training = False\n",
    "\n",
    "if training:\n",
    "    ## Adaboost\n",
    "    adaboost_args = {'random_state':0}\n",
    "    parameters = {'n_estimators': [x for x in range(10,101,20)], \n",
    "                  'learning_rate': [x for x in np.arange(0.0001,0.0003,0.0001)]}\n",
    "\n",
    "    clfAdaboost = AdaBoostClassifier(DecisionTreeClassifier(max_depth=3, random_state= 0),random_state= 0)\n",
    "    gs = GridSearchCV(clfAdaboost, param_grid=parameters, cv=3, n_jobs=8, scoring='roc_auc')\n",
    "    gs.fit(X_train_upsampled, y_train_upsampled)\n",
    "    best = gs.best_estimator_\n",
    "    \n",
    "    # Now train the best classifier on training data \n",
    "    best.fit(X_train_upsampled, y_train_upsampled)\n",
    "    \n",
    "    ## save the model\n",
    "    pickle.dump(best,open('/Users/luowendi/Documents/Kaggle-Project-Dont-get-kicked-master/models/best_model.pkl','wb'))\n",
    "else:\n",
    "    best = pickle.load(open('/Users/luowendi/Documents/Kaggle-Project-Dont-get-kicked-master/models/best_model.pkl','rb'))\n",
    "\n",
    "# Predicting the test set results\n",
    "y_pred = best.predict(X_test)\n",
    "\n",
    "#accuracy\n",
    "accuracy_ = accuracy_score(y_pred,y_test.as_matrix())\n",
    "\n",
    "#f1 score\n",
    "f1_ = f1_score(y_pred,y_test.as_matrix())\n",
    "\n",
    "# Area Under Curve (AUC)\n",
    "roc_ = roc_auc_score(y_pred,y_test.as_matrix())\n",
    "\n",
    "#Confusion Matrix\n",
    "cm = confusion_matrix(y_test, y_pred)\n",
    "print(cm)\n",
    "print('Adaboost Classifier with Decision Tree as base: accuracy = %.2f, f1 score = %.2f , roc = %.2f' %(accuracy_,f1_,roc_))"
   ]
  },
  {
   "cell_type": "code",
   "execution_count": null,
   "metadata": {},
   "outputs": [],
   "source": []
  }
 ],
 "metadata": {
  "kernelspec": {
   "display_name": "Python 3",
   "language": "python",
   "name": "python3"
  },
  "language_info": {
   "codemirror_mode": {
    "name": "ipython",
    "version": 3
   },
   "file_extension": ".py",
   "mimetype": "text/x-python",
   "name": "python",
   "nbconvert_exporter": "python",
   "pygments_lexer": "ipython3",
   "version": "3.6.5"
  }
 },
 "nbformat": 4,
 "nbformat_minor": 2
}
